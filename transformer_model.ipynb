{
  "cells": [
    {
      "cell_type": "markdown",
      "metadata": {
        "id": "view-in-github",
        "colab_type": "text"
      },
      "source": [
        "<a href=\"https://colab.research.google.com/github/akhanna99/transformer/blob/main/transformer_model.ipynb\" target=\"_parent\"><img src=\"https://colab.research.google.com/assets/colab-badge.svg\" alt=\"Open In Colab\"/></a>"
      ]
    },
    {
      "cell_type": "code",
      "execution_count": null,
      "id": "e62a6679",
      "metadata": {
        "colab": {
          "base_uri": "https://localhost:8080/"
        },
        "id": "e62a6679",
        "outputId": "e3f51f17-4377-4974-e86b-0a0f3e4ef65e"
      },
      "outputs": [
        {
          "output_type": "stream",
          "name": "stdout",
          "text": [
            "cpu\n"
          ]
        }
      ],
      "source": [
        "import torch\n",
        "import torch.nn as nn\n",
        "from torch.nn import functional as F\n",
        "import collections\n",
        "import numpy as np\n",
        "# hyperparameters\n",
        "batch_size = 8 #32 how many independent sequences will we process in parallel?\n",
        "block_size = 512#512#512#12 #16 what is the maximum context length for predictions?\n",
        "max_iters = 50000\n",
        "eval_interval = 50\n",
        "learning_rate = 1e-3 #3e-4 #6e-4\n",
        "'''\n",
        "weight_decay = 1e-1\n",
        "beta1 = 0.9\n",
        "betas2 = 0.95\n",
        "grad_clip = 1.0\n",
        "decay_lr =True\n",
        "10M parameters 300k tokens\n",
        "'''\n",
        "\n",
        "\n",
        "device = 'cuda' if torch.cuda.is_available() else 'cpu'\n",
        "print(device)\n",
        "eval_iters = 200\n",
        "n_embd = 768\n",
        "n_head = 8\n",
        "n_layer = 8\n",
        "dropout = 0.0\n",
        "# ------------\n",
        "initialTrain=True\n",
        "retrain=False"
      ]
    },
    {
      "cell_type": "code",
      "execution_count": null,
      "id": "90a49fa0-67a4-4de4-bcc1-efc7ab4c7d70",
      "metadata": {
        "colab": {
          "base_uri": "https://localhost:8080/"
        },
        "id": "90a49fa0-67a4-4de4-bcc1-efc7ab4c7d70",
        "outputId": "13c04a67-8b3c-410f-e83b-20d2ab5cf4f2"
      },
      "outputs": [
        {
          "output_type": "stream",
          "name": "stdout",
          "text": [
            "Drive already mounted at /content/MyDrive; to attempt to forcibly remount, call drive.mount(\"/content/MyDrive\", force_remount=True).\n"
          ]
        }
      ],
      "source": [
        "# read in text from google drive\n",
        "import os\n",
        "from google.colab import drive\n",
        "import sys\n",
        "\n",
        "drive.mount('/content/MyDrive')\n",
        "\n",
        "path = '/content/MyDrive/MyDrive/Colab Notebooks/alice_in_wonderland.txt'\n",
        "\n",
        "with open(path, 'r', encoding='utf-8') as f:\n",
        "    text = f.read()"
      ]
    },
    {
      "cell_type": "code",
      "execution_count": null,
      "id": "4a9d35ea-bee5-4a8d-9dfd-319b3745ce2a",
      "metadata": {
        "colab": {
          "base_uri": "https://localhost:8080/",
          "height": 87
        },
        "id": "4a9d35ea-bee5-4a8d-9dfd-319b3745ce2a",
        "outputId": "9c9720d9-21e0-4137-abc4-c514d2a0faae"
      },
      "outputs": [
        {
          "output_type": "execute_result",
          "data": {
            "text/plain": [
              "\"\\n# here are all the unique characters that occur in this text\\n# IMPORTANT: \\nchars = sorted(list(set(text)))\\nvocab_size = len(chars)\\n# create a mapping from characters to integers\\nstoi = { ch:i for i,ch in enumerate(chars) }\\nitos = { i:ch for i,ch in enumerate(chars) }\\nencode = lambda s: [stoi[c] for c in s] # encoder: take a string, output a list of integers\\ndecode = lambda l: ''.join([itos[i] for i in l]) # decoder: take a list of integers, output a string\\n\""
            ],
            "application/vnd.google.colaboratory.intrinsic+json": {
              "type": "string"
            }
          },
          "metadata": {},
          "execution_count": 46
        }
      ],
      "source": [
        "# tokenisation\n",
        "'''\n",
        "# here are all the unique characters that occur in this text\n",
        "# IMPORTANT:\n",
        "chars = sorted(list(set(text)))\n",
        "vocab_size = len(chars)\n",
        "# create a mapping from characters to integers\n",
        "stoi = { ch:i for i,ch in enumerate(chars) }\n",
        "itos = { i:ch for i,ch in enumerate(chars) }\n",
        "encode = lambda s: [stoi[c] for c in s] # encoder: take a string, output a list of integers\n",
        "decode = lambda l: ''.join([itos[i] for i in l]) # decoder: take a list of integers, output a string\n",
        "'''"
      ]
    },
    {
      "cell_type": "code",
      "execution_count": null,
      "id": "8a702fbc-8964-4d00-870e-ff26717c8228",
      "metadata": {
        "id": "8a702fbc-8964-4d00-870e-ff26717c8228"
      },
      "outputs": [],
      "source": [
        "\n",
        "words = text.split()\n",
        "word_counts = {word: count for word, count in collections.Counter(words).items()}\n",
        "unique_words = sorted(word_counts.keys(), key=lambda word: word_counts[word], reverse=True)\n",
        "vocab_size = len(unique_words)\n",
        "stoi = {word: i for i, word in enumerate(unique_words)}\n",
        "itos = {i: word for i, word in enumerate(unique_words)}\n",
        "encode = lambda s: [stoi[word] for word in s.split()]\n",
        "decode = lambda l: ' '.join([itos[i] for i in l])\n"
      ]
    },
    {
      "cell_type": "code",
      "execution_count": null,
      "id": "82cb405e-2336-4696-9321-af249f4c6e2e",
      "metadata": {
        "id": "82cb405e-2336-4696-9321-af249f4c6e2e"
      },
      "outputs": [],
      "source": [
        "# Train and test splits\n",
        "data = torch.tensor(encode(text), dtype=torch.long)\n",
        "#data = torch.tensor(encode(text), dtype=torch.long)\n",
        "n = int(0.9*len(data)) # first 90% will be train, rest val\n",
        "train_data = data[:n]\n",
        "val_data = data[n:]"
      ]
    },
    {
      "cell_type": "code",
      "execution_count": null,
      "id": "ac1ee2e7-bdc6-40de-8e0c-2fd0eb64a909",
      "metadata": {
        "id": "ac1ee2e7-bdc6-40de-8e0c-2fd0eb64a909"
      },
      "outputs": [],
      "source": [
        "# data loading\n",
        "def get_batch(split):\n",
        "    # generate a small batch of data of inputs x and targets y\n",
        "    data = train_data if split == 'train' else val_data\n",
        "    ix = torch.randint(len(data) - block_size, (batch_size,))\n",
        "    x = torch.stack([data[i:i+block_size] for i in ix])\n",
        "    y = torch.stack([data[i+1:i+block_size+1] for i in ix])\n",
        "    x, y = x.to(device), y.to(device)\n",
        "    return x, y\n",
        "\n",
        "@torch.no_grad()\n",
        "def estimate_loss():\n",
        "    out = {}\n",
        "    model.eval()\n",
        "    for split in ['train', 'val']:\n",
        "        losses = torch.zeros(eval_iters)\n",
        "        for k in range(eval_iters):\n",
        "            X, Y = get_batch(split)\n",
        "            logits, loss = model(X, Y)\n",
        "            losses[k] = loss.item()\n",
        "        out[split] = losses.mean()\n",
        "    model.train()\n",
        "    return out\n",
        "\n",
        "class Head(nn.Module):\n",
        "    \"\"\" one head of self-attention \"\"\"\n",
        "\n",
        "    # Linear projections we are going to apply to all nodes\n",
        "\n",
        "    def __init__(self, head_size):\n",
        "        super().__init__()\n",
        "        self.key = nn.Linear(n_embd, head_size, bias=False)\n",
        "        self.query = nn.Linear(n_embd, head_size, bias=False)\n",
        "        self.value = nn.Linear(n_embd, head_size, bias=False)\n",
        "        self.register_buffer('tril', torch.tril(torch.ones(block_size, block_size)))\n",
        "\n",
        "        self.dropout = nn.Dropout(dropout)\n",
        "\n",
        "    def forward(self, x):\n",
        "        B,T,C = x.shape\n",
        "        k = self.key(x)   # (B,T,C)\n",
        "        q = self.query(x) # (B,T,C)\n",
        "        # compute attention scores (\"affinities\")\n",
        "        wei = q @ k.transpose(-2,-1) * C**-0.5 # (B, T, C) @ (B, C, T) -> (B, T, T)\n",
        "        wei = wei.masked_fill(self.tril[:T, :T] == 0, float('-inf')) # (B, T, T)\n",
        "        wei = F.softmax(wei, dim=-1) # (B, T, T)\n",
        "        wei = self.dropout(wei)\n",
        "        # perform the weighted aggregation of the values\n",
        "        v = self.value(x) # (B,T,C)\n",
        "        out = wei @ v # (B, T, T) @ (B, T, C) -> (B, T, C)\n",
        "        return out\n",
        "\n",
        "class MultiHeadAttention(nn.Module):\n",
        "    \"\"\" multiple heads of self-attention running in parallel \"\"\"\n",
        "\n",
        "    def __init__(self, num_heads, head_size):\n",
        "        super().__init__()\n",
        "        self.heads = nn.ModuleList([Head(head_size) for _ in range(num_heads)])\n",
        "        self.proj = nn.Linear(n_embd, n_embd)\n",
        "        self.dropout = nn.Dropout(dropout)\n",
        "\n",
        "    def forward(self, x):\n",
        "        out = torch.cat([h(x) for h in self.heads], dim=-1)\n",
        "        # projection is a linear transformation of the outcome of the previous layer\n",
        "        out = self.dropout(self.proj(out))\n",
        "        return out # projection back into the residual pathway\n",
        "\n",
        "class FeedFoward(nn.Module):\n",
        "    \"\"\" a simple linear layer followed by a non-linearity \"\"\"\n",
        "\n",
        "    def __init__(self, n_embd):\n",
        "        super().__init__()\n",
        "        self.net = nn.Sequential(\n",
        "            nn.Linear(n_embd, 4 * n_embd),\n",
        "            nn.ReLU(),\n",
        "            nn.Linear(4 * n_embd, n_embd), # projection layer going back into the residual pathway\n",
        "            nn.Dropout(dropout),\n",
        "        )\n",
        "\n",
        "    def forward(self, x):\n",
        "        return self.net(x)\n",
        "\n",
        "class Block(nn.Module):\n",
        "    \"\"\" Transformer block: communication followed by computation \"\"\"\n",
        "\n",
        "    def __init__(self, n_embd, n_head):\n",
        "        # n_embd: embedding dimension, n_head: the number of heads we'd like\n",
        "        super().__init__()\n",
        "        head_size = n_embd // n_head\n",
        "        self.sa = MultiHeadAttention(n_head, head_size)\n",
        "        self.ffwd = FeedFoward(n_embd)\n",
        "        self.ln1 = nn.LayerNorm(n_embd)\n",
        "        self.ln2 = nn.LayerNorm(n_embd)\n",
        "\n",
        "    def forward(self, x):\n",
        "        # 'fork off' and do some communication and then come back\n",
        "        x = x + self.sa(self.ln1(x))\n",
        "        x = x + self.ffwd(self.ln2(x))\n",
        "        return x\n",
        "\n",
        "# super simple bigram model\n",
        "class BigramLanguageModel(nn.Module):\n",
        "\n",
        "    def __init__(self):\n",
        "        super().__init__()\n",
        "        # each token directly reads off the logits for the next token from a lookup table\n",
        "        self.token_embedding_table = nn.Embedding(vocab_size, n_embd)\n",
        "        self.position_embedding_table = nn.Embedding(block_size, n_embd)\n",
        "        self.blocks = nn.Sequential(*[Block(n_embd, n_head=n_head) for _ in range(n_layer)])\n",
        "        self.ln_f = nn.LayerNorm(n_embd) # final layer norm\n",
        "        self.lm_head = nn.Linear(n_embd, vocab_size)\n",
        "\n",
        "    def forward(self, idx, targets=None):\n",
        "        B, T = idx.shape\n",
        "\n",
        "        # idx and targets are both (B,T) tensor of integers\n",
        "        tok_emb = self.token_embedding_table(idx) # (B,T,C)\n",
        "        pos_emb = self.position_embedding_table(torch.arange(T, device=device)) # (T,C)\n",
        "        x = tok_emb + pos_emb # (B,T,C)\n",
        "        x = self.blocks(x) # (B,T,C)\n",
        "        x = self.ln_f(x) # (B,T,C)\n",
        "        logits = self.lm_head(x) # (B,T,vocab_size)\n",
        "\n",
        "        if targets is None:\n",
        "            loss = None\n",
        "        else:\n",
        "            B, T, C = logits.shape\n",
        "            logits = logits.view(B*T, C)\n",
        "            targets = targets.view(B*T)\n",
        "            loss = F.cross_entropy(logits, targets)\n",
        "\n",
        "        return logits, loss\n",
        "\n",
        "    def generate(self, idx, max_new_tokens):\n",
        "        # idx is (B, T) array of indices in the current context\n",
        "\n",
        "        for _ in range(max_new_tokens):\n",
        "            # crop idx to the last block_size tokens\n",
        "            idx_cond = idx[:, -block_size:]\n",
        "            # get the predictions\n",
        "            logits, loss = self(idx_cond)\n",
        "            # focus only on the last time step\n",
        "            logits = logits[:, -1, :] # becomes (B, C)\n",
        "            # apply softmax to get probabilities\n",
        "            probs = F.softmax(logits, dim=-1) # (B, C)\n",
        "            # sample from the distribution\n",
        "            idx_next = torch.multinomial(probs, num_samples=1) # (B, 1)\n",
        "            # append sampled index to the running sequence\n",
        "            idx = torch.cat((idx, idx_next), dim=1) # (B, T+1)\n",
        "        return idx"
      ]
    },
    {
      "cell_type": "code",
      "execution_count": null,
      "id": "2761ebb1-f68a-4fa4-801b-aae562e4bea4",
      "metadata": {
        "id": "2761ebb1-f68a-4fa4-801b-aae562e4bea4"
      },
      "outputs": [],
      "source": [
        "def early_stopping(train_loss, val_loss, min_delta, tollerance):\n",
        "    counter = 0\n",
        "    if (val_loss - train_loss) > min_delta:\n",
        "        counter+=1\n",
        "        if counter >= tollerance:\n",
        "            return True"
      ]
    },
    {
      "cell_type": "code",
      "execution_count": null,
      "id": "62b6f8a1-534d-40b5-8558-0b52bfa21a66",
      "metadata": {
        "id": "62b6f8a1-534d-40b5-8558-0b52bfa21a66"
      },
      "outputs": [],
      "source": [
        "class EarlyStopper:\n",
        "    def __init__(self,patience=1,min_delta=0):\n",
        "        self.patience = patience\n",
        "        self.min_delta = min_delta\n",
        "        self.counter=0\n",
        "        self.min_val_loss = np.inf\n",
        "\n",
        "    def early_stop(self, val_loss, model):\n",
        "        if val_loss < self.min_val_loss:\n",
        "            self.min_val_loss = val_loss\n",
        "            self.counter = 0\n",
        "            # save the trained model\n",
        "            model_path = \"trained_model.pth\"\n",
        "            torch.save(model.state_dict(), model_path)\n",
        "        elif val_loss > (self.min_val_loss + self.min_delta):\n",
        "            self.counter += 1\n",
        "            if self.counter >= self.patience:\n",
        "                return True\n",
        "            return False"
      ]
    },
    {
      "cell_type": "code",
      "execution_count": null,
      "id": "d7f0fa7b-17f3-4136-8c6a-3e13ea973637",
      "metadata": {
        "id": "d7f0fa7b-17f3-4136-8c6a-3e13ea973637"
      },
      "outputs": [],
      "source": [
        "# Train model function\n",
        "\n",
        "def train_model(model, optimizer, max_iters, eval_interval):\n",
        "    early_stopper = EarlyStopper(patience = 5, min_delta = 0.01)\n",
        "    for iter in range(max_iters):\n",
        "        # every once in a while evaluate the loss on train and val sets\n",
        "        if iter % eval_interval == 0 or iter == max_iters - 1:\n",
        "            losses = estimate_loss()\n",
        "            print(f\"step {iter}: train loss {losses['train']:.4f}, val loss {losses['val']:.4f}\")\n",
        "\n",
        "        if early_stopper.early_stop(losses['train'],model):\n",
        "            print('Early stopping')\n",
        "            break\n",
        "\n",
        "\n",
        "        # sample a batch of data\n",
        "        xb, yb = get_batch('train')\n",
        "\n",
        "        # evaluate the loss\n",
        "        model.train()\n",
        "        logits, loss = model(xb, yb)\n",
        "        optimizer.zero_grad(set_to_none=True)\n",
        "        loss.backward()\n",
        "        optimizer.step()\n",
        "\n"
      ]
    },
    {
      "cell_type": "code",
      "execution_count": null,
      "id": "4e1a0df8-fa27-4665-85cb-f2d64c6c8291",
      "metadata": {
        "id": "4e1a0df8-fa27-4665-85cb-f2d64c6c8291",
        "outputId": "2eb28ba3-ed05-4598-809a-2316ebec0040"
      },
      "outputs": [
        {
          "name": "stdout",
          "output_type": "stream",
          "text": [
            "65.234618 M parameters\n",
            "step 0: train loss 8.7275, val loss 8.7495\n",
            "step 50: train loss 6.7363, val loss 7.7959\n",
            "step 100: train loss 6.1798, val loss 7.4179\n",
            "step 150: train loss 5.5249, val loss 7.3641\n",
            "step 200: train loss 4.4481, val loss 7.4228\n",
            "step 250: train loss 3.2232, val loss 7.5379\n",
            "step 300: train loss 2.2092, val loss 7.9018\n",
            "step 350: train loss 1.4979, val loss 8.2788\n",
            "step 400: train loss 0.9800, val loss 8.7977\n",
            "step 450: train loss 0.6216, val loss 9.2144\n",
            "step 500: train loss 0.4161, val loss 9.5471\n",
            "step 550: train loss 0.2979, val loss 9.7525\n",
            "step 600: train loss 0.2336, val loss 9.9002\n",
            "step 650: train loss 0.1846, val loss 10.0383\n",
            "step 700: train loss 0.1445, val loss 10.2890\n",
            "step 750: train loss 0.1253, val loss 10.4174\n",
            "step 800: train loss 0.1094, val loss 10.5045\n",
            "step 850: train loss 0.0940, val loss 10.5650\n",
            "step 900: train loss 0.0822, val loss 10.6547\n",
            "step 950: train loss 0.0781, val loss 10.6126\n",
            "step 1000: train loss 0.0679, val loss 10.6945\n",
            "step 1050: train loss 0.0580, val loss 10.8196\n",
            "step 1100: train loss 0.0555, val loss 10.9107\n",
            "step 1150: train loss 0.0518, val loss 10.9179\n",
            "step 1200: train loss 0.0474, val loss 11.0080\n",
            "step 1250: train loss 0.0471, val loss 10.9740\n",
            "step 1300: train loss 0.0437, val loss 11.1376\n",
            "step 1350: train loss 0.0423, val loss 11.2364\n",
            "step 1400: train loss 0.0419, val loss 11.1469\n",
            "step 1450: train loss 0.0418, val loss 11.1576\n",
            "step 1500: train loss 0.0402, val loss 11.2991\n",
            "step 1550: train loss 0.0378, val loss 11.3630\n",
            "step 1600: train loss 0.0402, val loss 11.3380\n",
            "step 1650: train loss 0.0358, val loss 11.3918\n",
            "step 1700: train loss 0.0360, val loss 11.5017\n",
            "step 1750: train loss 0.0353, val loss 11.4165\n",
            "step 1800: train loss 0.0345, val loss 11.4608\n",
            "step 1850: train loss 0.0351, val loss 11.4280\n",
            "step 1900: train loss 0.0361, val loss 11.6570\n",
            "step 1950: train loss 0.0385, val loss 11.7919\n",
            "step 2000: train loss 0.0367, val loss 11.6389\n",
            "step 2050: train loss 0.0337, val loss 11.7267\n",
            "step 2100: train loss 0.0311, val loss 11.8602\n",
            "step 2150: train loss 0.0303, val loss 11.9215\n",
            "step 2200: train loss 0.0334, val loss 11.8654\n",
            "step 2250: train loss 0.0314, val loss 11.8984\n",
            "step 2300: train loss 0.0314, val loss 12.0362\n",
            "step 2350: train loss 0.0314, val loss 11.8017\n",
            "step 2400: train loss 0.0327, val loss 12.0037\n",
            "step 2450: train loss 0.0303, val loss 12.0482\n",
            "step 2500: train loss 0.0284, val loss 12.0033\n",
            "step 2550: train loss 0.0288, val loss 12.0504\n",
            "step 2600: train loss 0.0290, val loss 12.2077\n",
            "step 2650: train loss 0.0273, val loss 12.1329\n",
            "step 2700: train loss 0.0274, val loss 12.2701\n",
            "step 2750: train loss 0.0261, val loss 12.2324\n",
            "step 2800: train loss 0.0257, val loss 12.2784\n",
            "step 2850: train loss 0.0269, val loss 12.3953\n",
            "step 2900: train loss 0.0265, val loss 12.5152\n",
            "step 2950: train loss 0.0272, val loss 12.4689\n",
            "step 3000: train loss 0.0254, val loss 12.5661\n",
            "step 3050: train loss 0.0260, val loss 12.3216\n",
            "step 3100: train loss 0.0264, val loss 12.4693\n",
            "step 3150: train loss 0.0262, val loss 12.6124\n",
            "step 3200: train loss 0.0257, val loss 12.6389\n",
            "step 3250: train loss 0.0246, val loss 12.7624\n",
            "step 3300: train loss 0.0265, val loss 12.8012\n",
            "step 3350: train loss 0.0247, val loss 12.7404\n",
            "step 3400: train loss 0.0250, val loss 12.8669\n",
            "step 3450: train loss 0.0235, val loss 12.9032\n",
            "step 3500: train loss 0.0245, val loss 13.0672\n",
            "step 3550: train loss 0.0271, val loss 12.8394\n",
            "step 3600: train loss 0.0250, val loss 12.8692\n",
            "step 3650: train loss 0.0234, val loss 13.2176\n",
            "step 3700: train loss 0.0252, val loss 13.0678\n",
            "step 3750: train loss 0.0219, val loss 13.2541\n",
            "step 3800: train loss 0.0231, val loss 12.9645\n",
            "step 3850: train loss 0.0255, val loss 13.5063\n",
            "step 3900: train loss 0.0242, val loss 13.4557\n",
            "step 3950: train loss 0.0232, val loss 13.2269\n",
            "step 4000: train loss 0.0228, val loss 13.2195\n",
            "step 4050: train loss 0.0233, val loss 13.1891\n",
            "step 4100: train loss 0.0229, val loss 13.3549\n",
            "step 4150: train loss 0.0217, val loss 13.5628\n",
            "step 4200: train loss 0.0238, val loss 13.4076\n",
            "step 4250: train loss 0.0217, val loss 13.2540\n",
            "step 4300: train loss 0.0234, val loss 13.8280\n",
            "step 4350: train loss 0.0217, val loss 13.7652\n",
            "step 4400: train loss 0.0264, val loss 13.7697\n",
            "step 4450: train loss 0.1400, val loss 13.2359\n",
            "Early stopping\n"
          ]
        }
      ],
      "source": [
        "if initialTrain:\n",
        "    # Initial train\n",
        "    model = BigramLanguageModel()\n",
        "    print(sum(p.numel() for p in model.parameters())/1e6, 'M parameters')\n",
        "    model = model.to(device)\n",
        "    optimizer = torch.optim.AdamW(model.parameters(), lr=learning_rate)\n",
        "    model.train()\n",
        "    train_model(model, optimizer, max_iters, eval_interval)\n",
        "    # save the trained model\n",
        "    #model_path = \"trained_model.pth\"\n",
        "    #torch.save(model.state_dict(), model_path)"
      ]
    },
    {
      "cell_type": "code",
      "execution_count": null,
      "id": "09015d9a-a326-4a71-bca8-9825bc43b233",
      "metadata": {
        "id": "09015d9a-a326-4a71-bca8-9825bc43b233"
      },
      "outputs": [],
      "source": [
        "if retrain:\n",
        "    # Retrain the model\n",
        "    model = BigramLanguageModel()\n",
        "    model_path = \"trained_model.pth\"\n",
        "    model.load_state_dict(torch.load(model_path))\n",
        "    model = model.to(device)\n",
        "    model.train()\n",
        "    learning_rate = 1e-2\n",
        "    max_iters = 1500\n",
        "    optimizer = torch.optim.AdamW(model.parameters(), lr=learning_rate)\n",
        "    train_model(model, optimizer, max_iters, eval_interval)\n",
        "    print(sum(p.numel() for p in model.parameters())/1e6, 'M parameters')\n",
        "    # save the trained model\n",
        "    model_path = \"trained_model.pth\"\n",
        "    torch.save(model.state_dict(), model_path)"
      ]
    },
    {
      "cell_type": "code",
      "execution_count": null,
      "id": "2bbcd3c5-a0f7-4837-8b46-a4e079284f25",
      "metadata": {
        "colab": {
          "base_uri": "https://localhost:8080/"
        },
        "id": "2bbcd3c5-a0f7-4837-8b46-a4e079284f25",
        "outputId": "ec25a399-ae0e-40cc-f1c8-9617efca049b"
      },
      "outputs": [
        {
          "output_type": "stream",
          "name": "stdout",
          "text": [
            "65.234618 M parameters\n",
            "Alice was beginning to see its meaning. `And just as I'd taken the highest tree in the wood,' continued the Pigeon, raising its voice to a shriek, `and just as I was thinking I should be free of them at last, they must needs come wriggling down from the sky! Ugh, Serpent!' `But I'm NOT a serpent, I tell you!' said Alice. `I'm a--I'm a--' `Well! WHAT are you?' said the Pigeon. `I can see you're trying to invent something!' `I--I'm a little girl,' said Alice, rather doubtfully, as she remembered the number of changes she had gone through that day. `A likely story indeed!' said the Pigeon in a tone of the deepest contempt. `I've seen a good many little girls in my time, but never ONE with such a neck as that! No, no! You're a serpent; and there's no use denying it. I suppose you'll be telling me next that you never tasted an egg!' `I HAVE tasted eggs, certainly,' said Alice, who was a very truthful child; `but little girls eat eggs quite as much as serpents do, you know.' `I don't believe it,' said the Pigeon; `but if they do, why then they're a kind of serpent, that's all I can say.' This was such a new idea to Alice, that she was quite silent for a minute or two, which gave the Pigeon the opportunity of adding, `You're looking for eggs, I know THAT well enough; and what does it matter to me whether you're a little girl or a serpent?' `It matters a good deal to ME,' said Alice hastily; `but I'm not looking for eggs, as it happens; and if I was, I shouldn't want YOURS: I don't like them raw.' `Well, be off, then!' said the Pigeon in a sulky tone, as it settled down\n"
          ]
        }
      ],
      "source": [
        "# Inference code for generating new tokens\n",
        "\n",
        "# Load the trained model\n",
        "model = BigramLanguageModel()\n",
        "model_path = \"/content/MyDrive/MyDrive/Colab Notebooks/trained_model_joe.pth\"\n",
        "model.load_state_dict(torch.load(model_path, map_location='cpu'))\n",
        "print(sum(p.numel() for p in model.parameters())/1e6, 'M parameters')\n",
        "model = model.to(device)\n",
        "model.eval()\n",
        "\n",
        "# Generate from the loaded model\n",
        "\n",
        "context = torch.zeros((1, 1), dtype=torch.long, device=device)\n",
        "\n",
        "prompt = \"Alice was beginning to\"\n",
        "context2 = torch.tensor(encode(prompt), dtype=torch.long, device=device).unsqueeze(0)\n",
        "\n",
        "generated_tokens = model.generate(context2, max_new_tokens=300)[0].tolist()\n",
        "generated_text = decode(generated_tokens)\n",
        "#generated_text = decode(generated_tokens)\n",
        "print(generated_text)"
      ]
    }
  ],
  "metadata": {
    "kernelspec": {
      "display_name": "Python 3 (ipykernel)",
      "language": "python",
      "name": "python3"
    },
    "language_info": {
      "codemirror_mode": {
        "name": "ipython",
        "version": 3
      },
      "file_extension": ".py",
      "mimetype": "text/x-python",
      "name": "python",
      "nbconvert_exporter": "python",
      "pygments_lexer": "ipython3",
      "version": "3.10.9"
    },
    "colab": {
      "provenance": [],
      "include_colab_link": true
    }
  },
  "nbformat": 4,
  "nbformat_minor": 5
}